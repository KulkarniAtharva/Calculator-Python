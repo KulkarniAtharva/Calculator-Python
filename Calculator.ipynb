{
 "cells": [
  {
   "cell_type": "markdown",
   "metadata": {},
   "source": [
    "# Calculator "
   ]
  },
  {
   "cell_type": "code",
   "execution_count": 17,
   "metadata": {},
   "outputs": [],
   "source": [
    "from tkinter import *"
   ]
  },
  {
   "cell_type": "code",
   "execution_count": 18,
   "metadata": {},
   "outputs": [],
   "source": [
    "def  btclick(numbers):\n",
    "    global operator\n",
    "    operator=operator + str(numbers)\n",
    "    txt_input.set(operator)"
   ]
  },
  {
   "cell_type": "code",
   "execution_count": 19,
   "metadata": {},
   "outputs": [],
   "source": [
    "def clear():\n",
    "    global operator\n",
    "    operator=\" \"\n",
    "    txt_input.set(\"\")"
   ]
  },
  {
   "cell_type": "code",
   "execution_count": 20,
   "metadata": {},
   "outputs": [],
   "source": [
    "def eq():\n",
    "    global operator\n",
    "    sumup=str(eval(operator))\n",
    "    txt_input.set(sumup)\n",
    "    operator=\" \""
   ]
  },
  {
   "cell_type": "code",
   "execution_count": 21,
   "metadata": {},
   "outputs": [],
   "source": [
    "cal =Tk()\n",
    "cal.title(\"Calculator\")\n",
    "operator=\" \"\n",
    "txt_input=StringVar()"
   ]
  },
  {
   "cell_type": "code",
   "execution_count": 22,
   "metadata": {},
   "outputs": [],
   "source": [
    "txtdisplay = Entry(cal , font=(\"arial\" , 20  ) , fg='green',textvariable=txt_input, bd=30, insertwidth=4,bg = \"black\" , justify='right').grid(columnspan=4)"
   ]
  },
  {
   "cell_type": "code",
   "execution_count": 23,
   "metadata": {},
   "outputs": [],
   "source": [
    "menu = Menu(cal)\n",
    "cal.config(menu=menu)"
   ]
  },
  {
   "cell_type": "code",
   "execution_count": 24,
   "metadata": {},
   "outputs": [],
   "source": [
    "submenu=Menu(menu)\n",
    "menu.add_cascade(label=\"Adv\")\n",
    "menu.add_cascade(label=\".\")\n",
    "menu.add_cascade(label=\"This is a basic Calculator ~ ~ by Atharva \")"
   ]
  },
  {
   "cell_type": "code",
   "execution_count": 25,
   "metadata": {},
   "outputs": [],
   "source": [
    "b7=Button(cal , padx=16 , bd=8, fg ='green',  font=(\"arial\" , 20 , \"bold\" ), text='7',bg='black'  ,  command=lambda : btclick(7)).grid(row=1 , column=0)\n",
    "b8=Button(cal , padx=16 , bd=8, fg ='green',  font=(\"arial\" , 20 , \"bold\" ), text='8',bg='black' ,  command=lambda : btclick(8)).grid(row=1 , column=1)\n",
    "b9=Button(cal , padx=16 , bd=8, fg ='green',  font=(\"arial\" , 20 , \"bold\" ), text='9',bg='black' ,  command=lambda : btclick(9)).grid(row=1 , column=2)\n",
    "badd=Button(cal , padx=16 , bd=8, fg ='green',  font=(\"arial\" , 20 , \"bold\" ), text='+',bg='black' ,  command=lambda : btclick('+')).grid(row=1 , column=3)"
   ]
  },
  {
   "cell_type": "code",
   "execution_count": 26,
   "metadata": {},
   "outputs": [],
   "source": [
    "\n",
    "b4=Button(cal , padx=16 , bd=8, fg ='green',  font=(\"arial\" , 20 , \"bold\" ), text='4',bg='black' ,  command=lambda : btclick(4)).grid(row=2 , column=0)\n",
    "b5=Button(cal , padx=16 , bd=8, fg ='green',  font=(\"arial\" , 20 , \"bold\" ), text='5',bg='black' ,  command=lambda : btclick(5)).grid(row=2 , column=1)\n",
    "b6=Button(cal , padx=16 , bd=8, fg ='green',  font=(\"arial\" , 20 , \"bold\" ), text='6',bg='black' ,  command=lambda : btclick(6)).grid(row=2, column=2)\n",
    "bsub=Button(cal , padx=16 , bd=8, fg ='green',  font=(\"arial\" , 20 , \"bold\" ), text='-',bg='black' ,  command=lambda : btclick('-')).grid(row=2 , column=3)"
   ]
  },
  {
   "cell_type": "code",
   "execution_count": 27,
   "metadata": {},
   "outputs": [],
   "source": [
    "b1=Button(cal , padx=16 , bd=8, fg ='green',  font=(\"arial\" , 20 , \"bold\" ), text='1',bg='black' ,  command=lambda : btclick(1)).grid(row=3 , column=0)\n",
    "b2=Button(cal , padx=16 , bd=8, fg ='green',  font=(\"arial\" , 20 , \"bold\" ), text='2',bg='black' ,  command=lambda : btclick(2)).grid(row=3 , column=1)\n",
    "b3=Button(cal , padx=16 , bd=8, fg ='green',  font=(\"arial\" , 20 , \"bold\" ), text='3',bg='black' ,  command=lambda : btclick(3)).grid(row=3, column=2)\n",
    "bmul=Button(cal , padx=16 , bd=8, fg ='green',  font=(\"arial\" , 20 , \"bold\" ), text='*',bg='black' ,  command=lambda : btclick('*')).grid(row=3 , column=3)"
   ]
  },
  {
   "cell_type": "code",
   "execution_count": 28,
   "metadata": {},
   "outputs": [],
   "source": [
    "b0=Button(cal , padx=16 , bd=8, fg ='green',  font=(\"arial\" , 20 , \"bold\" ), text='0',bg='black' ,  command=lambda : btclick(0)).grid(row=4 , column=0)\n",
    "bdiv=Button(cal , padx=16 , bd=8, fg ='green',  font=(\"arial\" , 20 , \"bold\" ), text='/',bg='black' ,  command=lambda : btclick('/')).grid(row=4 , column=1)\n",
    "bcl=Button(cal , padx=16 , bd=8, fg ='green',  font=(\"arial\" , 20 , \"bold\" ), text='C',bg='black' ,command=clear ).grid(row=4, column=2)\n",
    "beq=Button(cal , padx=16 , bd=8, fg ='green',  font=(\"arial\" , 20 , \"bold\" ), text='=',bg='black'  ,command=eq ).grid(row=4 , column=3)"
   ]
  },
  {
   "cell_type": "code",
   "execution_count": 29,
   "metadata": {},
   "outputs": [],
   "source": [
    "cal.mainloop()"
   ]
  },
  {
   "cell_type": "markdown",
   "metadata": {},
   "source": [
    "## Great Work"
   ]
  }
 ],
 "metadata": {
  "kernelspec": {
   "display_name": "Python 3",
   "language": "python",
   "name": "python3"
  },
  "language_info": {
   "codemirror_mode": {
    "name": "ipython",
    "version": 3
   },
   "file_extension": ".py",
   "mimetype": "text/x-python",
   "name": "python",
   "nbconvert_exporter": "python",
   "pygments_lexer": "ipython3",
   "version": "3.8.3"
  }
 },
 "nbformat": 4,
 "nbformat_minor": 4
}
